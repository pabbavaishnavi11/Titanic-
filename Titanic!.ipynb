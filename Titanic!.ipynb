{
  "cells": [
    {
      "cell_type": "markdown",
      "metadata": {
        "id": "view-in-github",
        "colab_type": "text"
      },
      "source": [
        "<a href=\"https://colab.research.google.com/github/pabbavaishnavi11/Titanic-/blob/main/Titanic!.ipynb\" target=\"_parent\"><img src=\"https://colab.research.google.com/assets/colab-badge.svg\" alt=\"Open In Colab\"/></a>"
      ]
    },
    {
      "cell_type": "code",
      "execution_count": null,
      "id": "c6adea15",
      "metadata": {
        "id": "c6adea15"
      },
      "outputs": [],
      "source": [
        "import numpy as np\n",
        "import pandas as pd\n",
        "import matplotlib.pyplot as plt\n",
        "import seaborn as sns"
      ]
    },
    {
      "cell_type": "code",
      "execution_count": null,
      "id": "86a36ce3",
      "metadata": {
        "id": "86a36ce3"
      },
      "outputs": [],
      "source": [
        "train=pd.read_csv('traintitanic.csv')\n",
        "test=pd.read_csv('testtitanic.csv')\n",
        "gender=pd.read_csv('gender_submission.csv')"
      ]
    },
    {
      "cell_type": "code",
      "execution_count": null,
      "id": "3bdd59d6",
      "metadata": {
        "id": "3bdd59d6",
        "outputId": "959bc0a1-96e7-43db-96a0-896e73ac73c2"
      },
      "outputs": [
        {
          "data": {
            "text/html": [
              "<div>\n",
              "<style scoped>\n",
              "    .dataframe tbody tr th:only-of-type {\n",
              "        vertical-align: middle;\n",
              "    }\n",
              "\n",
              "    .dataframe tbody tr th {\n",
              "        vertical-align: top;\n",
              "    }\n",
              "\n",
              "    .dataframe thead th {\n",
              "        text-align: right;\n",
              "    }\n",
              "</style>\n",
              "<table border=\"1\" class=\"dataframe\">\n",
              "  <thead>\n",
              "    <tr style=\"text-align: right;\">\n",
              "      <th></th>\n",
              "      <th>PassengerId</th>\n",
              "      <th>Survived</th>\n",
              "      <th>Pclass</th>\n",
              "      <th>Name</th>\n",
              "      <th>Sex</th>\n",
              "      <th>Age</th>\n",
              "      <th>SibSp</th>\n",
              "      <th>Parch</th>\n",
              "      <th>Ticket</th>\n",
              "      <th>Fare</th>\n",
              "      <th>Cabin</th>\n",
              "      <th>Embarked</th>\n",
              "    </tr>\n",
              "  </thead>\n",
              "  <tbody>\n",
              "    <tr>\n",
              "      <th>886</th>\n",
              "      <td>887</td>\n",
              "      <td>0</td>\n",
              "      <td>2</td>\n",
              "      <td>Montvila, Rev. Juozas</td>\n",
              "      <td>male</td>\n",
              "      <td>27.0</td>\n",
              "      <td>0</td>\n",
              "      <td>0</td>\n",
              "      <td>211536</td>\n",
              "      <td>13.00</td>\n",
              "      <td>NaN</td>\n",
              "      <td>S</td>\n",
              "    </tr>\n",
              "    <tr>\n",
              "      <th>887</th>\n",
              "      <td>888</td>\n",
              "      <td>1</td>\n",
              "      <td>1</td>\n",
              "      <td>Graham, Miss. Margaret Edith</td>\n",
              "      <td>female</td>\n",
              "      <td>19.0</td>\n",
              "      <td>0</td>\n",
              "      <td>0</td>\n",
              "      <td>112053</td>\n",
              "      <td>30.00</td>\n",
              "      <td>B42</td>\n",
              "      <td>S</td>\n",
              "    </tr>\n",
              "    <tr>\n",
              "      <th>888</th>\n",
              "      <td>889</td>\n",
              "      <td>0</td>\n",
              "      <td>3</td>\n",
              "      <td>Johnston, Miss. Catherine Helen \"Carrie\"</td>\n",
              "      <td>female</td>\n",
              "      <td>NaN</td>\n",
              "      <td>1</td>\n",
              "      <td>2</td>\n",
              "      <td>W./C. 6607</td>\n",
              "      <td>23.45</td>\n",
              "      <td>NaN</td>\n",
              "      <td>S</td>\n",
              "    </tr>\n",
              "    <tr>\n",
              "      <th>889</th>\n",
              "      <td>890</td>\n",
              "      <td>1</td>\n",
              "      <td>1</td>\n",
              "      <td>Behr, Mr. Karl Howell</td>\n",
              "      <td>male</td>\n",
              "      <td>26.0</td>\n",
              "      <td>0</td>\n",
              "      <td>0</td>\n",
              "      <td>111369</td>\n",
              "      <td>30.00</td>\n",
              "      <td>C148</td>\n",
              "      <td>C</td>\n",
              "    </tr>\n",
              "    <tr>\n",
              "      <th>890</th>\n",
              "      <td>891</td>\n",
              "      <td>0</td>\n",
              "      <td>3</td>\n",
              "      <td>Dooley, Mr. Patrick</td>\n",
              "      <td>male</td>\n",
              "      <td>32.0</td>\n",
              "      <td>0</td>\n",
              "      <td>0</td>\n",
              "      <td>370376</td>\n",
              "      <td>7.75</td>\n",
              "      <td>NaN</td>\n",
              "      <td>Q</td>\n",
              "    </tr>\n",
              "  </tbody>\n",
              "</table>\n",
              "</div>"
            ],
            "text/plain": [
              "     PassengerId  Survived  Pclass                                      Name  \\\n",
              "886          887         0       2                     Montvila, Rev. Juozas   \n",
              "887          888         1       1              Graham, Miss. Margaret Edith   \n",
              "888          889         0       3  Johnston, Miss. Catherine Helen \"Carrie\"   \n",
              "889          890         1       1                     Behr, Mr. Karl Howell   \n",
              "890          891         0       3                       Dooley, Mr. Patrick   \n",
              "\n",
              "        Sex   Age  SibSp  Parch      Ticket   Fare Cabin Embarked  \n",
              "886    male  27.0      0      0      211536  13.00   NaN        S  \n",
              "887  female  19.0      0      0      112053  30.00   B42        S  \n",
              "888  female   NaN      1      2  W./C. 6607  23.45   NaN        S  \n",
              "889    male  26.0      0      0      111369  30.00  C148        C  \n",
              "890    male  32.0      0      0      370376   7.75   NaN        Q  "
            ]
          },
          "execution_count": 183,
          "metadata": {},
          "output_type": "execute_result"
        }
      ],
      "source": [
        "train.tail()"
      ]
    },
    {
      "cell_type": "code",
      "execution_count": null,
      "id": "3e2eb1bd",
      "metadata": {
        "id": "3e2eb1bd",
        "outputId": "4f593932-585e-4593-9b70-0b423f48bf73"
      },
      "outputs": [
        {
          "data": {
            "text/plain": [
              "(891, 12)"
            ]
          },
          "execution_count": 184,
          "metadata": {},
          "output_type": "execute_result"
        }
      ],
      "source": [
        "train.shape"
      ]
    },
    {
      "cell_type": "code",
      "execution_count": null,
      "id": "ab061b7d",
      "metadata": {
        "id": "ab061b7d",
        "outputId": "27a16e04-66ce-4567-8523-4aa63349bdc5"
      },
      "outputs": [
        {
          "data": {
            "text/plain": [
              "PassengerId      0\n",
              "Survived         0\n",
              "Pclass           0\n",
              "Name             0\n",
              "Sex              0\n",
              "Age            177\n",
              "SibSp            0\n",
              "Parch            0\n",
              "Ticket           0\n",
              "Fare             0\n",
              "Cabin          687\n",
              "Embarked         2\n",
              "dtype: int64"
            ]
          },
          "execution_count": 185,
          "metadata": {},
          "output_type": "execute_result"
        }
      ],
      "source": [
        "train.isna().sum()"
      ]
    },
    {
      "cell_type": "code",
      "execution_count": null,
      "id": "e492301a",
      "metadata": {
        "id": "e492301a",
        "outputId": "17b56a7c-7742-4e32-e94a-d4fa65237f4e"
      },
      "outputs": [
        {
          "data": {
            "text/plain": [
              "S    644\n",
              "C    168\n",
              "Q     77\n",
              "Name: Embarked, dtype: int64"
            ]
          },
          "execution_count": 186,
          "metadata": {},
          "output_type": "execute_result"
        }
      ],
      "source": [
        "train['Embarked'].value_counts()"
      ]
    },
    {
      "cell_type": "code",
      "execution_count": null,
      "id": "e98dadd2",
      "metadata": {
        "id": "e98dadd2"
      },
      "outputs": [],
      "source": [
        "df=train.copy()"
      ]
    },
    {
      "cell_type": "code",
      "execution_count": null,
      "id": "8f846d84",
      "metadata": {
        "id": "8f846d84"
      },
      "outputs": [],
      "source": [
        "Q=df[df['Embarked']=='Q']['Fare']\n",
        "S=df[df['Embarked']=='S']['Fare']\n",
        "C=df[df['Embarked']=='C']['Fare']"
      ]
    },
    {
      "cell_type": "code",
      "execution_count": null,
      "id": "3c78636b",
      "metadata": {
        "id": "3c78636b",
        "outputId": "200a254a-fe9f-464a-c286-d3e97fa487ed"
      },
      "outputs": [
        {
          "data": {
            "text/plain": [
              "13.276029870129872"
            ]
          },
          "execution_count": 189,
          "metadata": {},
          "output_type": "execute_result"
        }
      ],
      "source": [
        "\n",
        "Q.mean()"
      ]
    },
    {
      "cell_type": "code",
      "execution_count": null,
      "id": "82b5aa76",
      "metadata": {
        "id": "82b5aa76",
        "outputId": "eedfb121-7d0b-4010-88c8-cf2ef7bb48de"
      },
      "outputs": [
        {
          "data": {
            "text/plain": [
              "59.95414404761905"
            ]
          },
          "execution_count": 190,
          "metadata": {},
          "output_type": "execute_result"
        }
      ],
      "source": [
        "C.mean()\n"
      ]
    },
    {
      "cell_type": "code",
      "execution_count": null,
      "id": "ed9a8205",
      "metadata": {
        "id": "ed9a8205",
        "outputId": "8716c7d5-4e81-4b15-ba55-222ebdc90eb9"
      },
      "outputs": [
        {
          "data": {
            "text/plain": [
              "27.07981180124218"
            ]
          },
          "execution_count": 191,
          "metadata": {},
          "output_type": "execute_result"
        }
      ],
      "source": [
        "S.mean()"
      ]
    },
    {
      "cell_type": "code",
      "execution_count": null,
      "id": "f6db62bd",
      "metadata": {
        "id": "f6db62bd"
      },
      "outputs": [],
      "source": [
        "C1=df[df['Embarked']=='C']['Survived']\n",
        "S1=df[df['Embarked']=='S']['Survived']\n",
        "Q1=df[df['Embarked']=='Q']['Survived']\n"
      ]
    },
    {
      "cell_type": "code",
      "execution_count": null,
      "id": "12a7ec10",
      "metadata": {
        "id": "12a7ec10",
        "outputId": "ded54a37-f1c9-4615-8f90-be07eca54a12"
      },
      "outputs": [
        {
          "data": {
            "text/plain": [
              "1    93\n",
              "0    75\n",
              "Name: Survived, dtype: int64"
            ]
          },
          "execution_count": 193,
          "metadata": {},
          "output_type": "execute_result"
        }
      ],
      "source": [
        "C1.value_counts()\n"
      ]
    },
    {
      "cell_type": "code",
      "execution_count": null,
      "id": "8642f830",
      "metadata": {
        "id": "8642f830",
        "outputId": "3ddb7a33-fec8-4a04-f122-6998dc976174"
      },
      "outputs": [
        {
          "data": {
            "text/plain": [
              "0    427\n",
              "1    217\n",
              "Name: Survived, dtype: int64"
            ]
          },
          "execution_count": 194,
          "metadata": {},
          "output_type": "execute_result"
        }
      ],
      "source": [
        "S1.value_counts()"
      ]
    },
    {
      "cell_type": "code",
      "execution_count": null,
      "id": "82c7708b",
      "metadata": {
        "id": "82c7708b",
        "outputId": "d3b0e003-65f4-4b68-dec3-6b99ebe9d0fe"
      },
      "outputs": [
        {
          "data": {
            "text/plain": [
              "0    47\n",
              "1    30\n",
              "Name: Survived, dtype: int64"
            ]
          },
          "execution_count": 195,
          "metadata": {},
          "output_type": "execute_result"
        }
      ],
      "source": [
        "Q1.value_counts()"
      ]
    },
    {
      "cell_type": "code",
      "execution_count": null,
      "id": "a7f77a19",
      "metadata": {
        "id": "a7f77a19"
      },
      "outputs": [],
      "source": [
        "W=df[df['Sex']=='female']['Survived']\n",
        "M=df[df['Sex']=='male']['Survived']\n"
      ]
    },
    {
      "cell_type": "code",
      "execution_count": null,
      "id": "6416b888",
      "metadata": {
        "id": "6416b888",
        "outputId": "bdb4166c-d28f-4d6a-c37b-f0f32dc74a7a"
      },
      "outputs": [
        {
          "data": {
            "text/plain": [
              "1    233\n",
              "0     81\n",
              "Name: Survived, dtype: int64"
            ]
          },
          "execution_count": 197,
          "metadata": {},
          "output_type": "execute_result"
        }
      ],
      "source": [
        "W.value_counts()"
      ]
    },
    {
      "cell_type": "code",
      "execution_count": null,
      "id": "66c0a85f",
      "metadata": {
        "id": "66c0a85f",
        "outputId": "6bde9908-2273-41bd-de0c-184d09fad29b"
      },
      "outputs": [
        {
          "data": {
            "text/plain": [
              "0    468\n",
              "1    109\n",
              "Name: Survived, dtype: int64"
            ]
          },
          "execution_count": 198,
          "metadata": {},
          "output_type": "execute_result"
        }
      ],
      "source": [
        "M.value_counts()"
      ]
    },
    {
      "cell_type": "code",
      "execution_count": null,
      "id": "1963ef56",
      "metadata": {
        "id": "1963ef56"
      },
      "outputs": [],
      "source": [
        "O=df[df['Pclass']==1]['Survived']\n",
        "T=df[df['Pclass']==2]['Survived']\n",
        "TH=df[df['Pclass']==3]['Survived']\n"
      ]
    },
    {
      "cell_type": "code",
      "execution_count": null,
      "id": "5180b157",
      "metadata": {
        "id": "5180b157",
        "outputId": "25f44722-0d2f-48a9-e9b1-003aa2a7ea3e"
      },
      "outputs": [
        {
          "data": {
            "text/plain": [
              "1    136\n",
              "0     80\n",
              "Name: Survived, dtype: int64"
            ]
          },
          "execution_count": 200,
          "metadata": {},
          "output_type": "execute_result"
        }
      ],
      "source": [
        "O.value_counts()"
      ]
    },
    {
      "cell_type": "code",
      "execution_count": null,
      "id": "a75a12e5",
      "metadata": {
        "id": "a75a12e5",
        "outputId": "59778ece-c738-4347-ae5d-04d7419bb773"
      },
      "outputs": [
        {
          "data": {
            "text/plain": [
              "0    97\n",
              "1    87\n",
              "Name: Survived, dtype: int64"
            ]
          },
          "execution_count": 201,
          "metadata": {},
          "output_type": "execute_result"
        }
      ],
      "source": [
        "T.value_counts()"
      ]
    },
    {
      "cell_type": "code",
      "execution_count": null,
      "id": "3b3a1c9d",
      "metadata": {
        "id": "3b3a1c9d",
        "outputId": "2605d168-625d-4d7a-9b87-6b3477513db8"
      },
      "outputs": [
        {
          "data": {
            "text/plain": [
              "0    372\n",
              "1    119\n",
              "Name: Survived, dtype: int64"
            ]
          },
          "execution_count": 202,
          "metadata": {},
          "output_type": "execute_result"
        }
      ],
      "source": [
        "TH.value_counts()"
      ]
    },
    {
      "cell_type": "code",
      "execution_count": null,
      "id": "849c523b",
      "metadata": {
        "id": "849c523b"
      },
      "outputs": [],
      "source": [
        "a=df[df['Survived']==1]['Age']"
      ]
    },
    {
      "cell_type": "code",
      "execution_count": null,
      "id": "3632a3c2",
      "metadata": {
        "id": "3632a3c2",
        "outputId": "bab4ecf0-dcd4-4db8-f7db-432358d17c5d"
      },
      "outputs": [
        {
          "data": {
            "text/plain": [
              "28.343689655172415"
            ]
          },
          "execution_count": 204,
          "metadata": {},
          "output_type": "execute_result"
        }
      ],
      "source": [
        "a.mean()"
      ]
    },
    {
      "cell_type": "code",
      "execution_count": null,
      "id": "f7323e65",
      "metadata": {
        "id": "f7323e65"
      },
      "outputs": [],
      "source": [
        "null=df[df['Survived']==0]['Age']"
      ]
    },
    {
      "cell_type": "code",
      "execution_count": null,
      "id": "dbc94dd0",
      "metadata": {
        "scrolled": true,
        "id": "dbc94dd0",
        "outputId": "c3ebb68f-0364-44c1-e751-1bafb2b78c06"
      },
      "outputs": [
        {
          "data": {
            "text/plain": [
              "30.62617924528302"
            ]
          },
          "execution_count": 206,
          "metadata": {},
          "output_type": "execute_result"
        }
      ],
      "source": [
        "null.mean()"
      ]
    },
    {
      "cell_type": "code",
      "execution_count": null,
      "id": "97d16d84",
      "metadata": {
        "id": "97d16d84",
        "outputId": "a1de57e1-9448-40f6-9665-05d9e45ce0b7"
      },
      "outputs": [
        {
          "data": {
            "text/plain": [
              "29.69911764705882"
            ]
          },
          "execution_count": 207,
          "metadata": {},
          "output_type": "execute_result"
        }
      ],
      "source": [
        "train['Age'].mean()"
      ]
    },
    {
      "cell_type": "code",
      "execution_count": null,
      "id": "a718ef68",
      "metadata": {
        "id": "a718ef68"
      },
      "outputs": [],
      "source": [
        "train['Age']=train['Age'].fillna(30)\n",
        "    "
      ]
    },
    {
      "cell_type": "code",
      "execution_count": null,
      "id": "8a631e13",
      "metadata": {
        "id": "8a631e13",
        "outputId": "2acf5835-aa3c-414d-9444-26fa25e07f81"
      },
      "outputs": [
        {
          "data": {
            "text/plain": [
              "PassengerId      0\n",
              "Survived         0\n",
              "Pclass           0\n",
              "Name             0\n",
              "Sex              0\n",
              "Age              0\n",
              "SibSp            0\n",
              "Parch            0\n",
              "Ticket           0\n",
              "Fare             0\n",
              "Cabin          687\n",
              "Embarked         2\n",
              "dtype: int64"
            ]
          },
          "execution_count": 209,
          "metadata": {},
          "output_type": "execute_result"
        }
      ],
      "source": [
        "train.isna().sum()"
      ]
    },
    {
      "cell_type": "code",
      "execution_count": null,
      "id": "60f00181",
      "metadata": {
        "id": "60f00181"
      },
      "outputs": [],
      "source": [
        "data=train[['Age','Pclass','Fare','Sex','Embarked','Survived']]"
      ]
    },
    {
      "cell_type": "code",
      "execution_count": null,
      "id": "f53a9ba4",
      "metadata": {
        "scrolled": true,
        "id": "f53a9ba4",
        "outputId": "0c8eaeca-b2c7-4771-b34d-9990b5e008fb"
      },
      "outputs": [
        {
          "data": {
            "text/html": [
              "<div>\n",
              "<style scoped>\n",
              "    .dataframe tbody tr th:only-of-type {\n",
              "        vertical-align: middle;\n",
              "    }\n",
              "\n",
              "    .dataframe tbody tr th {\n",
              "        vertical-align: top;\n",
              "    }\n",
              "\n",
              "    .dataframe thead th {\n",
              "        text-align: right;\n",
              "    }\n",
              "</style>\n",
              "<table border=\"1\" class=\"dataframe\">\n",
              "  <thead>\n",
              "    <tr style=\"text-align: right;\">\n",
              "      <th></th>\n",
              "      <th>Age</th>\n",
              "      <th>Pclass</th>\n",
              "      <th>Fare</th>\n",
              "      <th>Sex</th>\n",
              "      <th>Embarked</th>\n",
              "      <th>Survived</th>\n",
              "    </tr>\n",
              "  </thead>\n",
              "  <tbody>\n",
              "    <tr>\n",
              "      <th>0</th>\n",
              "      <td>22.0</td>\n",
              "      <td>3</td>\n",
              "      <td>7.2500</td>\n",
              "      <td>male</td>\n",
              "      <td>S</td>\n",
              "      <td>0</td>\n",
              "    </tr>\n",
              "    <tr>\n",
              "      <th>1</th>\n",
              "      <td>38.0</td>\n",
              "      <td>1</td>\n",
              "      <td>71.2833</td>\n",
              "      <td>female</td>\n",
              "      <td>C</td>\n",
              "      <td>1</td>\n",
              "    </tr>\n",
              "    <tr>\n",
              "      <th>2</th>\n",
              "      <td>26.0</td>\n",
              "      <td>3</td>\n",
              "      <td>7.9250</td>\n",
              "      <td>female</td>\n",
              "      <td>S</td>\n",
              "      <td>1</td>\n",
              "    </tr>\n",
              "    <tr>\n",
              "      <th>3</th>\n",
              "      <td>35.0</td>\n",
              "      <td>1</td>\n",
              "      <td>53.1000</td>\n",
              "      <td>female</td>\n",
              "      <td>S</td>\n",
              "      <td>1</td>\n",
              "    </tr>\n",
              "    <tr>\n",
              "      <th>4</th>\n",
              "      <td>35.0</td>\n",
              "      <td>3</td>\n",
              "      <td>8.0500</td>\n",
              "      <td>male</td>\n",
              "      <td>S</td>\n",
              "      <td>0</td>\n",
              "    </tr>\n",
              "  </tbody>\n",
              "</table>\n",
              "</div>"
            ],
            "text/plain": [
              "    Age  Pclass     Fare     Sex Embarked  Survived\n",
              "0  22.0       3   7.2500    male        S         0\n",
              "1  38.0       1  71.2833  female        C         1\n",
              "2  26.0       3   7.9250  female        S         1\n",
              "3  35.0       1  53.1000  female        S         1\n",
              "4  35.0       3   8.0500    male        S         0"
            ]
          },
          "execution_count": 222,
          "metadata": {},
          "output_type": "execute_result"
        }
      ],
      "source": [
        "data.head()"
      ]
    },
    {
      "cell_type": "code",
      "execution_count": null,
      "id": "ad3e9c2e",
      "metadata": {
        "scrolled": true,
        "id": "ad3e9c2e",
        "outputId": "1fffe5e2-7d56-48bc-acaa-17690fd18f98"
      },
      "outputs": [
        {
          "name": "stderr",
          "output_type": "stream",
          "text": [
            "C:\\Users\\HP\\AppData\\Local\\Temp\\ipykernel_6840\\2720026344.py:3: SettingWithCopyWarning: \n",
            "A value is trying to be set on a copy of a slice from a DataFrame.\n",
            "Try using .loc[row_indexer,col_indexer] = value instead\n",
            "\n",
            "See the caveats in the documentation: https://pandas.pydata.org/pandas-docs/stable/user_guide/indexing.html#returning-a-view-versus-a-copy\n",
            "  data['Embarked']=le.fit_transform(data['Embarked'])\n",
            "C:\\Users\\HP\\AppData\\Local\\Temp\\ipykernel_6840\\2720026344.py:4: SettingWithCopyWarning: \n",
            "A value is trying to be set on a copy of a slice from a DataFrame.\n",
            "Try using .loc[row_indexer,col_indexer] = value instead\n",
            "\n",
            "See the caveats in the documentation: https://pandas.pydata.org/pandas-docs/stable/user_guide/indexing.html#returning-a-view-versus-a-copy\n",
            "  data['Sex']=le.fit_transform(data['Sex'])\n"
          ]
        }
      ],
      "source": [
        "from sklearn.preprocessing import LabelEncoder\n",
        "le = LabelEncoder()\n",
        "data['Embarked']=le.fit_transform(data['Embarked'])\n",
        "data['Sex']=le.fit_transform(data['Sex'])"
      ]
    },
    {
      "cell_type": "code",
      "execution_count": null,
      "id": "b2534c51",
      "metadata": {
        "id": "b2534c51",
        "outputId": "67abf77c-d2ba-4589-8b8f-75c10e6a6121"
      },
      "outputs": [
        {
          "data": {
            "text/html": [
              "<div>\n",
              "<style scoped>\n",
              "    .dataframe tbody tr th:only-of-type {\n",
              "        vertical-align: middle;\n",
              "    }\n",
              "\n",
              "    .dataframe tbody tr th {\n",
              "        vertical-align: top;\n",
              "    }\n",
              "\n",
              "    .dataframe thead th {\n",
              "        text-align: right;\n",
              "    }\n",
              "</style>\n",
              "<table border=\"1\" class=\"dataframe\">\n",
              "  <thead>\n",
              "    <tr style=\"text-align: right;\">\n",
              "      <th></th>\n",
              "      <th>Age</th>\n",
              "      <th>Pclass</th>\n",
              "      <th>Fare</th>\n",
              "      <th>Sex</th>\n",
              "      <th>Embarked</th>\n",
              "      <th>Survived</th>\n",
              "    </tr>\n",
              "  </thead>\n",
              "  <tbody>\n",
              "    <tr>\n",
              "      <th>0</th>\n",
              "      <td>22.0</td>\n",
              "      <td>3</td>\n",
              "      <td>7.2500</td>\n",
              "      <td>1</td>\n",
              "      <td>2</td>\n",
              "      <td>0</td>\n",
              "    </tr>\n",
              "    <tr>\n",
              "      <th>1</th>\n",
              "      <td>38.0</td>\n",
              "      <td>1</td>\n",
              "      <td>71.2833</td>\n",
              "      <td>0</td>\n",
              "      <td>0</td>\n",
              "      <td>1</td>\n",
              "    </tr>\n",
              "    <tr>\n",
              "      <th>2</th>\n",
              "      <td>26.0</td>\n",
              "      <td>3</td>\n",
              "      <td>7.9250</td>\n",
              "      <td>0</td>\n",
              "      <td>2</td>\n",
              "      <td>1</td>\n",
              "    </tr>\n",
              "    <tr>\n",
              "      <th>3</th>\n",
              "      <td>35.0</td>\n",
              "      <td>1</td>\n",
              "      <td>53.1000</td>\n",
              "      <td>0</td>\n",
              "      <td>2</td>\n",
              "      <td>1</td>\n",
              "    </tr>\n",
              "    <tr>\n",
              "      <th>4</th>\n",
              "      <td>35.0</td>\n",
              "      <td>3</td>\n",
              "      <td>8.0500</td>\n",
              "      <td>1</td>\n",
              "      <td>2</td>\n",
              "      <td>0</td>\n",
              "    </tr>\n",
              "  </tbody>\n",
              "</table>\n",
              "</div>"
            ],
            "text/plain": [
              "    Age  Pclass     Fare  Sex  Embarked  Survived\n",
              "0  22.0       3   7.2500    1         2         0\n",
              "1  38.0       1  71.2833    0         0         1\n",
              "2  26.0       3   7.9250    0         2         1\n",
              "3  35.0       1  53.1000    0         2         1\n",
              "4  35.0       3   8.0500    1         2         0"
            ]
          },
          "execution_count": 225,
          "metadata": {},
          "output_type": "execute_result"
        }
      ],
      "source": [
        "data.head()"
      ]
    },
    {
      "cell_type": "code",
      "execution_count": null,
      "id": "1cb6403c",
      "metadata": {
        "id": "1cb6403c",
        "outputId": "88cdb6d6-d1f8-4cc8-e8a5-5332e6e93731"
      },
      "outputs": [
        {
          "data": {
            "text/plain": [
              "Age         0\n",
              "Pclass      0\n",
              "Fare        0\n",
              "Sex         0\n",
              "Embarked    0\n",
              "Survived    0\n",
              "dtype: int64"
            ]
          },
          "execution_count": 226,
          "metadata": {},
          "output_type": "execute_result"
        }
      ],
      "source": [
        "data.isna().sum()"
      ]
    },
    {
      "cell_type": "code",
      "execution_count": null,
      "id": "2b1ec257",
      "metadata": {
        "id": "2b1ec257"
      },
      "outputs": [],
      "source": [
        "from sklearn.model_selection import train_test_split\n",
        "from sklearn.linear_model import LogisticRegression\n",
        "from sklearn.metrics import accuracy_score"
      ]
    },
    {
      "cell_type": "code",
      "execution_count": null,
      "id": "1fa0f40e",
      "metadata": {
        "id": "1fa0f40e"
      },
      "outputs": [],
      "source": [
        "x=data.iloc[:,:-1]\n",
        "y=data.iloc[:,-1:]"
      ]
    },
    {
      "cell_type": "code",
      "execution_count": null,
      "id": "76e6ff8d",
      "metadata": {
        "id": "76e6ff8d"
      },
      "outputs": [],
      "source": [
        "from sklearn.preprocessing import StandardScaler\n",
        "sc=StandardScaler()\n",
        "x=sc.fit_transform(x)"
      ]
    },
    {
      "cell_type": "code",
      "execution_count": null,
      "id": "feee6a53",
      "metadata": {
        "id": "feee6a53"
      },
      "outputs": [],
      "source": [
        "x_train,x_test,y_train,y_test=train_test_split(x,y,test_size=0.20,random_state=4)"
      ]
    },
    {
      "cell_type": "code",
      "execution_count": null,
      "id": "c0b65833",
      "metadata": {
        "id": "c0b65833"
      },
      "outputs": [],
      "source": [
        "lr=LogisticRegression()"
      ]
    },
    {
      "cell_type": "code",
      "execution_count": null,
      "id": "93bbcee9",
      "metadata": {
        "id": "93bbcee9",
        "outputId": "ae2deba4-072a-486a-8a90-f497ca3150b5"
      },
      "outputs": [
        {
          "name": "stderr",
          "output_type": "stream",
          "text": [
            "C:\\anacondaaa3\\lib\\site-packages\\sklearn\\utils\\validation.py:993: DataConversionWarning: A column-vector y was passed when a 1d array was expected. Please change the shape of y to (n_samples, ), for example using ravel().\n",
            "  y = column_or_1d(y, warn=True)\n"
          ]
        },
        {
          "data": {
            "text/plain": [
              "LogisticRegression()"
            ]
          },
          "execution_count": 264,
          "metadata": {},
          "output_type": "execute_result"
        }
      ],
      "source": [
        "lr.fit(x_train,y_train)"
      ]
    },
    {
      "cell_type": "code",
      "execution_count": null,
      "id": "13630fcf",
      "metadata": {
        "id": "13630fcf"
      },
      "outputs": [],
      "source": [
        "train_predict=lr.predict(x_train)\n",
        "train_accuracy=accuracy_score(train_predict,y_train)"
      ]
    },
    {
      "cell_type": "code",
      "execution_count": null,
      "id": "4315ebca",
      "metadata": {
        "id": "4315ebca",
        "outputId": "081cf1d2-2633-47a0-9f61-b00b480346be"
      },
      "outputs": [
        {
          "name": "stdout",
          "output_type": "stream",
          "text": [
            "0.7851123595505618\n"
          ]
        }
      ],
      "source": [
        "print(train_accuracy)"
      ]
    },
    {
      "cell_type": "code",
      "execution_count": null,
      "id": "96a984d7",
      "metadata": {
        "id": "96a984d7",
        "outputId": "527f9e80-97e1-4468-e368-be4026184540"
      },
      "outputs": [
        {
          "data": {
            "text/plain": [
              "0.8212290502793296"
            ]
          },
          "execution_count": 273,
          "metadata": {},
          "output_type": "execute_result"
        }
      ],
      "source": [
        "test_predict=lr.predict(x_test)\n",
        "accuracy_score(test_predict,y_test)"
      ]
    },
    {
      "cell_type": "code",
      "execution_count": null,
      "id": "9adfd65f",
      "metadata": {
        "id": "9adfd65f",
        "outputId": "8211970d-4961-4b2d-e58c-1f14bf788afe"
      },
      "outputs": [
        {
          "name": "stderr",
          "output_type": "stream",
          "text": [
            "C:\\anacondaaa3\\lib\\site-packages\\sklearn\\utils\\validation.py:993: DataConversionWarning: A column-vector y was passed when a 1d array was expected. Please change the shape of y to (n_samples, ), for example using ravel().\n",
            "  y = column_or_1d(y, warn=True)\n"
          ]
        },
        {
          "data": {
            "text/plain": [
              "SVC(random_state=0)"
            ]
          },
          "execution_count": 269,
          "metadata": {},
          "output_type": "execute_result"
        }
      ],
      "source": [
        "from sklearn.svm import SVC\n",
        "cls=SVC(kernel='rbf',random_state=0)\n",
        "cls.fit(x_train,y_train)\n"
      ]
    },
    {
      "cell_type": "code",
      "execution_count": null,
      "id": "bbc9ccae",
      "metadata": {
        "id": "bbc9ccae",
        "outputId": "4f2860b7-cc91-44c3-f857-cad987a8688e"
      },
      "outputs": [
        {
          "data": {
            "text/plain": [
              "0.8230337078651685"
            ]
          },
          "execution_count": 270,
          "metadata": {},
          "output_type": "execute_result"
        }
      ],
      "source": [
        "accuracy_score(cls.predict(x_train),y_train)"
      ]
    },
    {
      "cell_type": "code",
      "execution_count": null,
      "id": "85bb1151",
      "metadata": {
        "id": "85bb1151",
        "outputId": "ddb0a2e0-8fd9-4fcf-a319-81260784e04e"
      },
      "outputs": [
        {
          "data": {
            "text/plain": [
              "0.8435754189944135"
            ]
          },
          "execution_count": 274,
          "metadata": {},
          "output_type": "execute_result"
        }
      ],
      "source": [
        "accuracy_score(cls.predict(x_test),y_test)"
      ]
    },
    {
      "cell_type": "code",
      "execution_count": null,
      "id": "031812f4",
      "metadata": {
        "id": "031812f4",
        "outputId": "28a4c275-fc1f-4347-cc43-41da4a6243de"
      },
      "outputs": [
        {
          "name": "stderr",
          "output_type": "stream",
          "text": [
            "C:\\Users\\HP\\AppData\\Local\\Temp\\ipykernel_6840\\2507457799.py:3: DataConversionWarning: A column-vector y was passed when a 1d array was expected. Please change the shape of y to (n_samples,), for example using ravel().\n",
            "  classifier.fit(x_train, y_train)\n"
          ]
        },
        {
          "data": {
            "text/plain": [
              "RandomForestClassifier(n_estimators=10, random_state=0)"
            ]
          },
          "execution_count": 276,
          "metadata": {},
          "output_type": "execute_result"
        }
      ],
      "source": [
        "from sklearn.ensemble import RandomForestClassifier\n",
        "classifier = RandomForestClassifier(n_estimators = 10, random_state = 0)\n",
        "classifier.fit(x_train, y_train)"
      ]
    },
    {
      "cell_type": "code",
      "execution_count": null,
      "id": "a3d3fe5d",
      "metadata": {
        "id": "a3d3fe5d",
        "outputId": "64a82189-c0d8-45c3-b29c-3000862047d6"
      },
      "outputs": [
        {
          "data": {
            "text/plain": [
              "0.9676966292134831"
            ]
          },
          "execution_count": 277,
          "metadata": {},
          "output_type": "execute_result"
        }
      ],
      "source": [
        "accuracy_score(classifier.predict(x_train),y_train)"
      ]
    },
    {
      "cell_type": "code",
      "execution_count": null,
      "id": "f8d05e88",
      "metadata": {
        "id": "f8d05e88",
        "outputId": "d16092b4-2810-4b8d-d0d7-6826263c3f7a"
      },
      "outputs": [
        {
          "data": {
            "text/plain": [
              "0.8435754189944135"
            ]
          },
          "execution_count": 278,
          "metadata": {},
          "output_type": "execute_result"
        }
      ],
      "source": [
        "accuracy_score(classifier.predict(x_test),y_test)"
      ]
    },
    {
      "cell_type": "code",
      "execution_count": null,
      "id": "80b56125",
      "metadata": {
        "id": "80b56125",
        "outputId": "8d27e4a5-223e-460b-bacb-f37654ffdc57"
      },
      "outputs": [
        {
          "data": {
            "text/plain": [
              "DecisionTreeClassifier(criterion='entropy', random_state=0)"
            ]
          },
          "execution_count": 280,
          "metadata": {},
          "output_type": "execute_result"
        }
      ],
      "source": [
        "from sklearn.tree import DecisionTreeClassifier\n",
        "cl= DecisionTreeClassifier(criterion = 'entropy', random_state = 0)\n",
        "cl.fit(x_train, y_train)"
      ]
    },
    {
      "cell_type": "code",
      "execution_count": null,
      "id": "a5405729",
      "metadata": {
        "id": "a5405729",
        "outputId": "cfa54d27-0140-4eca-e71d-3a76781a7d0c"
      },
      "outputs": [
        {
          "data": {
            "text/plain": [
              "0.8044692737430168"
            ]
          },
          "execution_count": 281,
          "metadata": {},
          "output_type": "execute_result"
        }
      ],
      "source": [
        "accuracy_score(cl.predict(x_test),y_test)"
      ]
    },
    {
      "cell_type": "code",
      "execution_count": null,
      "id": "365bdad6",
      "metadata": {
        "id": "365bdad6",
        "outputId": "3e5d1551-a19a-435f-9068-a11ff1e7e171"
      },
      "outputs": [
        {
          "data": {
            "text/plain": [
              "0.8044692737430168"
            ]
          },
          "execution_count": 282,
          "metadata": {},
          "output_type": "execute_result"
        }
      ],
      "source": [
        "accuracy_score(cl.predict(x_test),y_test)"
      ]
    },
    {
      "cell_type": "code",
      "execution_count": null,
      "id": "3dc9b9f2",
      "metadata": {
        "id": "3dc9b9f2",
        "outputId": "567f9f19-371e-4b13-c2c4-ad9359e5b726"
      },
      "outputs": [
        {
          "name": "stderr",
          "output_type": "stream",
          "text": [
            "C:\\anacondaaa3\\lib\\site-packages\\sklearn\\neighbors\\_classification.py:198: DataConversionWarning: A column-vector y was passed when a 1d array was expected. Please change the shape of y to (n_samples,), for example using ravel().\n",
            "  return self._fit(X, y)\n"
          ]
        },
        {
          "data": {
            "text/plain": [
              "KNeighborsClassifier()"
            ]
          },
          "execution_count": 283,
          "metadata": {},
          "output_type": "execute_result"
        }
      ],
      "source": [
        "from sklearn.neighbors import KNeighborsClassifier\n",
        "clsr=KNeighborsClassifier(n_neighbors=5, metric='minkowski',p=2)\n",
        "clsr.fit(x_train,y_train)"
      ]
    },
    {
      "cell_type": "code",
      "execution_count": null,
      "id": "88d18155",
      "metadata": {
        "id": "88d18155",
        "outputId": "4d9e0945-bd2e-4402-fe18-05f1c06aa166"
      },
      "outputs": [
        {
          "data": {
            "text/plain": [
              "0.8735955056179775"
            ]
          },
          "execution_count": 284,
          "metadata": {},
          "output_type": "execute_result"
        }
      ],
      "source": [
        "accuracy_score(clsr.predict(x_train),y_train)"
      ]
    },
    {
      "cell_type": "code",
      "execution_count": null,
      "id": "ce517571",
      "metadata": {
        "id": "ce517571",
        "outputId": "58e334c4-0802-403a-e7e1-d059e9c84062"
      },
      "outputs": [
        {
          "data": {
            "text/plain": [
              "0.8435754189944135"
            ]
          },
          "execution_count": 285,
          "metadata": {},
          "output_type": "execute_result"
        }
      ],
      "source": [
        "accuracy_score(clsr.predict(x_test),y_test)"
      ]
    },
    {
      "cell_type": "code",
      "execution_count": null,
      "id": "52aaee82",
      "metadata": {
        "id": "52aaee82",
        "outputId": "f1115b47-99b4-42a0-b673-ffc4ec7b04f5"
      },
      "outputs": [
        {
          "name": "stderr",
          "output_type": "stream",
          "text": [
            "C:\\anacondaaa3\\lib\\site-packages\\sklearn\\utils\\validation.py:993: DataConversionWarning: A column-vector y was passed when a 1d array was expected. Please change the shape of y to (n_samples, ), for example using ravel().\n",
            "  y = column_or_1d(y, warn=True)\n"
          ]
        },
        {
          "data": {
            "text/plain": [
              "GaussianNB()"
            ]
          },
          "execution_count": 286,
          "metadata": {},
          "output_type": "execute_result"
        }
      ],
      "source": [
        "from sklearn.naive_bayes import GaussianNB\n",
        "cls1=GaussianNB()\n",
        "cls1.fit(x_train,y_train)"
      ]
    },
    {
      "cell_type": "code",
      "execution_count": null,
      "id": "7b3eb793",
      "metadata": {
        "id": "7b3eb793",
        "outputId": "5dd485ad-7637-42f1-ac38-f925e3e7ab63"
      },
      "outputs": [
        {
          "data": {
            "text/plain": [
              "0.7935393258426966"
            ]
          },
          "execution_count": 287,
          "metadata": {},
          "output_type": "execute_result"
        }
      ],
      "source": [
        "accuracy_score(cls1.predict(x_train),y_train)"
      ]
    },
    {
      "cell_type": "code",
      "execution_count": null,
      "id": "84bc1a0d",
      "metadata": {
        "id": "84bc1a0d",
        "outputId": "26c72be9-ad16-4a78-d493-6bf98b265064"
      },
      "outputs": [
        {
          "data": {
            "text/plain": [
              "0.7988826815642458"
            ]
          },
          "execution_count": 288,
          "metadata": {},
          "output_type": "execute_result"
        }
      ],
      "source": [
        "accuracy_score(cls1.predict(x_test),y_test)"
      ]
    },
    {
      "cell_type": "markdown",
      "id": "1f2e9935",
      "metadata": {
        "id": "1f2e9935"
      },
      "source": [
        "TEST SET"
      ]
    },
    {
      "cell_type": "code",
      "execution_count": null,
      "id": "05d59bc0",
      "metadata": {
        "id": "05d59bc0",
        "outputId": "730ffa63-8b20-47a2-81fe-c4090d328249"
      },
      "outputs": [
        {
          "data": {
            "text/html": [
              "<div>\n",
              "<style scoped>\n",
              "    .dataframe tbody tr th:only-of-type {\n",
              "        vertical-align: middle;\n",
              "    }\n",
              "\n",
              "    .dataframe tbody tr th {\n",
              "        vertical-align: top;\n",
              "    }\n",
              "\n",
              "    .dataframe thead th {\n",
              "        text-align: right;\n",
              "    }\n",
              "</style>\n",
              "<table border=\"1\" class=\"dataframe\">\n",
              "  <thead>\n",
              "    <tr style=\"text-align: right;\">\n",
              "      <th></th>\n",
              "      <th>PassengerId</th>\n",
              "      <th>Pclass</th>\n",
              "      <th>Name</th>\n",
              "      <th>Sex</th>\n",
              "      <th>Age</th>\n",
              "      <th>SibSp</th>\n",
              "      <th>Parch</th>\n",
              "      <th>Ticket</th>\n",
              "      <th>Fare</th>\n",
              "      <th>Cabin</th>\n",
              "      <th>Embarked</th>\n",
              "    </tr>\n",
              "  </thead>\n",
              "  <tbody>\n",
              "    <tr>\n",
              "      <th>0</th>\n",
              "      <td>892</td>\n",
              "      <td>3</td>\n",
              "      <td>Kelly, Mr. James</td>\n",
              "      <td>male</td>\n",
              "      <td>34.5</td>\n",
              "      <td>0</td>\n",
              "      <td>0</td>\n",
              "      <td>330911</td>\n",
              "      <td>7.8292</td>\n",
              "      <td>NaN</td>\n",
              "      <td>Q</td>\n",
              "    </tr>\n",
              "    <tr>\n",
              "      <th>1</th>\n",
              "      <td>893</td>\n",
              "      <td>3</td>\n",
              "      <td>Wilkes, Mrs. James (Ellen Needs)</td>\n",
              "      <td>female</td>\n",
              "      <td>47.0</td>\n",
              "      <td>1</td>\n",
              "      <td>0</td>\n",
              "      <td>363272</td>\n",
              "      <td>7.0000</td>\n",
              "      <td>NaN</td>\n",
              "      <td>S</td>\n",
              "    </tr>\n",
              "    <tr>\n",
              "      <th>2</th>\n",
              "      <td>894</td>\n",
              "      <td>2</td>\n",
              "      <td>Myles, Mr. Thomas Francis</td>\n",
              "      <td>male</td>\n",
              "      <td>62.0</td>\n",
              "      <td>0</td>\n",
              "      <td>0</td>\n",
              "      <td>240276</td>\n",
              "      <td>9.6875</td>\n",
              "      <td>NaN</td>\n",
              "      <td>Q</td>\n",
              "    </tr>\n",
              "    <tr>\n",
              "      <th>3</th>\n",
              "      <td>895</td>\n",
              "      <td>3</td>\n",
              "      <td>Wirz, Mr. Albert</td>\n",
              "      <td>male</td>\n",
              "      <td>27.0</td>\n",
              "      <td>0</td>\n",
              "      <td>0</td>\n",
              "      <td>315154</td>\n",
              "      <td>8.6625</td>\n",
              "      <td>NaN</td>\n",
              "      <td>S</td>\n",
              "    </tr>\n",
              "    <tr>\n",
              "      <th>4</th>\n",
              "      <td>896</td>\n",
              "      <td>3</td>\n",
              "      <td>Hirvonen, Mrs. Alexander (Helga E Lindqvist)</td>\n",
              "      <td>female</td>\n",
              "      <td>22.0</td>\n",
              "      <td>1</td>\n",
              "      <td>1</td>\n",
              "      <td>3101298</td>\n",
              "      <td>12.2875</td>\n",
              "      <td>NaN</td>\n",
              "      <td>S</td>\n",
              "    </tr>\n",
              "  </tbody>\n",
              "</table>\n",
              "</div>"
            ],
            "text/plain": [
              "   PassengerId  Pclass                                          Name     Sex  \\\n",
              "0          892       3                              Kelly, Mr. James    male   \n",
              "1          893       3              Wilkes, Mrs. James (Ellen Needs)  female   \n",
              "2          894       2                     Myles, Mr. Thomas Francis    male   \n",
              "3          895       3                              Wirz, Mr. Albert    male   \n",
              "4          896       3  Hirvonen, Mrs. Alexander (Helga E Lindqvist)  female   \n",
              "\n",
              "    Age  SibSp  Parch   Ticket     Fare Cabin Embarked  \n",
              "0  34.5      0      0   330911   7.8292   NaN        Q  \n",
              "1  47.0      1      0   363272   7.0000   NaN        S  \n",
              "2  62.0      0      0   240276   9.6875   NaN        Q  \n",
              "3  27.0      0      0   315154   8.6625   NaN        S  \n",
              "4  22.0      1      1  3101298  12.2875   NaN        S  "
            ]
          },
          "execution_count": 237,
          "metadata": {},
          "output_type": "execute_result"
        }
      ],
      "source": [
        "test.head()"
      ]
    },
    {
      "cell_type": "code",
      "execution_count": null,
      "id": "b22dfca5",
      "metadata": {
        "id": "b22dfca5"
      },
      "outputs": [],
      "source": [
        "test=test[['Age','Pclass','Fare','Sex','Embarked']]"
      ]
    },
    {
      "cell_type": "code",
      "execution_count": null,
      "id": "dfe4f645",
      "metadata": {
        "id": "dfe4f645",
        "outputId": "945b8a6c-7dee-4776-c8ef-1d583e2700fa"
      },
      "outputs": [
        {
          "data": {
            "text/html": [
              "<div>\n",
              "<style scoped>\n",
              "    .dataframe tbody tr th:only-of-type {\n",
              "        vertical-align: middle;\n",
              "    }\n",
              "\n",
              "    .dataframe tbody tr th {\n",
              "        vertical-align: top;\n",
              "    }\n",
              "\n",
              "    .dataframe thead th {\n",
              "        text-align: right;\n",
              "    }\n",
              "</style>\n",
              "<table border=\"1\" class=\"dataframe\">\n",
              "  <thead>\n",
              "    <tr style=\"text-align: right;\">\n",
              "      <th></th>\n",
              "      <th>Age</th>\n",
              "      <th>Pclass</th>\n",
              "      <th>Fare</th>\n",
              "      <th>Sex</th>\n",
              "      <th>Embarked</th>\n",
              "    </tr>\n",
              "  </thead>\n",
              "  <tbody>\n",
              "    <tr>\n",
              "      <th>0</th>\n",
              "      <td>34.5</td>\n",
              "      <td>3</td>\n",
              "      <td>7.8292</td>\n",
              "      <td>male</td>\n",
              "      <td>Q</td>\n",
              "    </tr>\n",
              "    <tr>\n",
              "      <th>1</th>\n",
              "      <td>47.0</td>\n",
              "      <td>3</td>\n",
              "      <td>7.0000</td>\n",
              "      <td>female</td>\n",
              "      <td>S</td>\n",
              "    </tr>\n",
              "    <tr>\n",
              "      <th>2</th>\n",
              "      <td>62.0</td>\n",
              "      <td>2</td>\n",
              "      <td>9.6875</td>\n",
              "      <td>male</td>\n",
              "      <td>Q</td>\n",
              "    </tr>\n",
              "    <tr>\n",
              "      <th>3</th>\n",
              "      <td>27.0</td>\n",
              "      <td>3</td>\n",
              "      <td>8.6625</td>\n",
              "      <td>male</td>\n",
              "      <td>S</td>\n",
              "    </tr>\n",
              "    <tr>\n",
              "      <th>4</th>\n",
              "      <td>22.0</td>\n",
              "      <td>3</td>\n",
              "      <td>12.2875</td>\n",
              "      <td>female</td>\n",
              "      <td>S</td>\n",
              "    </tr>\n",
              "  </tbody>\n",
              "</table>\n",
              "</div>"
            ],
            "text/plain": [
              "    Age  Pclass     Fare     Sex Embarked\n",
              "0  34.5       3   7.8292    male        Q\n",
              "1  47.0       3   7.0000  female        S\n",
              "2  62.0       2   9.6875    male        Q\n",
              "3  27.0       3   8.6625    male        S\n",
              "4  22.0       3  12.2875  female        S"
            ]
          },
          "execution_count": 239,
          "metadata": {},
          "output_type": "execute_result"
        }
      ],
      "source": [
        "test.head()"
      ]
    },
    {
      "cell_type": "code",
      "execution_count": null,
      "id": "6c6e28ab",
      "metadata": {
        "id": "6c6e28ab"
      },
      "outputs": [],
      "source": [
        "from sklearn.preprocessing import LabelEncoder\n",
        "le = LabelEncoder()\n",
        "test['Embarked']=le.fit_transform(test['Embarked'])\n",
        "test['Sex']=le.fit_transform(test['Sex'])"
      ]
    },
    {
      "cell_type": "code",
      "execution_count": null,
      "id": "8336341c",
      "metadata": {
        "id": "8336341c",
        "outputId": "8c59e85f-0826-476e-e237-c0eaf80aa94d"
      },
      "outputs": [
        {
          "data": {
            "text/plain": [
              "Age         0\n",
              "Pclass      0\n",
              "Fare        0\n",
              "Sex         0\n",
              "Embarked    0\n",
              "dtype: int64"
            ]
          },
          "execution_count": 247,
          "metadata": {},
          "output_type": "execute_result"
        }
      ],
      "source": [
        "test.isna().sum()"
      ]
    },
    {
      "cell_type": "code",
      "execution_count": null,
      "id": "fddc25e7",
      "metadata": {
        "id": "fddc25e7",
        "outputId": "353f7db5-cfc3-4c7f-896f-98233534b6c4"
      },
      "outputs": [
        {
          "data": {
            "text/plain": [
              "30.272590361445783"
            ]
          },
          "execution_count": 242,
          "metadata": {},
          "output_type": "execute_result"
        }
      ],
      "source": [
        "test['Age'].mean()"
      ]
    },
    {
      "cell_type": "code",
      "execution_count": null,
      "id": "52cab23e",
      "metadata": {
        "id": "52cab23e"
      },
      "outputs": [],
      "source": [
        "test['Age']=test['Age'].fillna(30)"
      ]
    },
    {
      "cell_type": "code",
      "execution_count": null,
      "id": "c9de7103",
      "metadata": {
        "id": "c9de7103",
        "outputId": "9d56494c-a2cc-4e53-8312-65aaf93b5cd7"
      },
      "outputs": [
        {
          "data": {
            "text/plain": [
              "35.6271884892086"
            ]
          },
          "execution_count": 244,
          "metadata": {},
          "output_type": "execute_result"
        }
      ],
      "source": [
        "test['Fare'].mean()"
      ]
    },
    {
      "cell_type": "code",
      "execution_count": null,
      "id": "aca0615f",
      "metadata": {
        "id": "aca0615f"
      },
      "outputs": [],
      "source": [
        "test['Fare']=test['Fare'].fillna(35.6)"
      ]
    },
    {
      "cell_type": "markdown",
      "id": "de921beb",
      "metadata": {
        "id": "de921beb"
      },
      "source": [
        "from sklearn.naive_bayes import GaussianNB\n",
        "cls=GaussianNB()\n",
        "cls.fit(x_train,y_train)\n"
      ]
    },
    {
      "cell_type": "code",
      "execution_count": null,
      "id": "06e5978e",
      "metadata": {
        "id": "06e5978e",
        "outputId": "db5ae554-86ac-449b-d11d-de1e9f3e8e90"
      },
      "outputs": [
        {
          "data": {
            "text/plain": [
              "0.8435754189944135"
            ]
          },
          "execution_count": 256,
          "metadata": {},
          "output_type": "execute_result"
        }
      ],
      "source": [
        "y_pred1=cls.predict(x_test)\n",
        "accuracy_score(y_pred1,y_test)"
      ]
    },
    {
      "cell_type": "code",
      "execution_count": null,
      "id": "9382e6ad",
      "metadata": {
        "id": "9382e6ad"
      },
      "outputs": [],
      "source": [
        "#print(np.concatenate((y_pred.reshape(len(y_pred),1),y_test.reshape(len(y_test),1)),1))"
      ]
    },
    {
      "cell_type": "code",
      "execution_count": null,
      "id": "0f75970c",
      "metadata": {
        "id": "0f75970c",
        "outputId": "40d5ed66-c022-40e1-a7b6-e05fb9599543"
      },
      "outputs": [
        {
          "data": {
            "text/plain": [
              "'from sklearn.metrics import confusion_matrix\\nfrom sklearn.metrics import accuracy_score\\nprint(confusion_matrix(y_test,y_pred))\\nprint(accuracy_score(y_test,y_pred))\\n'"
            ]
          },
          "execution_count": 258,
          "metadata": {},
          "output_type": "execute_result"
        }
      ],
      "source": [
        "'''from sklearn.metrics import confusion_matrix\n",
        "from sklearn.metrics import accuracy_score\n",
        "print(confusion_matrix(y_test,y_pred))\n",
        "print(accuracy_score(y_test,y_pred))\n",
        "'''"
      ]
    }
  ],
  "metadata": {
    "kernelspec": {
      "display_name": "Python 3 (ipykernel)",
      "language": "python",
      "name": "python3"
    },
    "language_info": {
      "codemirror_mode": {
        "name": "ipython",
        "version": 3
      },
      "file_extension": ".py",
      "mimetype": "text/x-python",
      "name": "python",
      "nbconvert_exporter": "python",
      "pygments_lexer": "ipython3",
      "version": "3.9.12"
    },
    "colab": {
      "provenance": [],
      "include_colab_link": true
    }
  },
  "nbformat": 4,
  "nbformat_minor": 5
}